{
 "cells": [
  {
   "cell_type": "code",
   "execution_count": 3,
   "metadata": {},
   "outputs": [],
   "source": [
    "import tensorflow as tf\n",
    "import numpy as np\n",
    "import matplotlib.pyplot as plt\n",
    "from tensorflow.keras.preprocessing.image import ImageDataGenerator\n",
    "from tensorflow.keras.callbacks import ModelCheckpoint"
   ]
  },
  {
   "cell_type": "code",
   "execution_count": 4,
   "metadata": {},
   "outputs": [],
   "source": [
    "import os"
   ]
  },
  {
   "cell_type": "code",
   "execution_count": 25,
   "metadata": {},
   "outputs": [],
   "source": [
    "path = 'dataset/'\n",
    "training_data_dir = os.path.join(path, 'train')\n",
    "testing_data_dir = os.path.join(path, 'test')\n",
    "\n",
    "output_dir = os.path.join('models/')"
   ]
  },
  {
   "cell_type": "code",
   "execution_count": 15,
   "metadata": {},
   "outputs": [],
   "source": [
    "os.mkdir(output_dir)"
   ]
  },
  {
   "cell_type": "code",
   "execution_count": 22,
   "metadata": {},
   "outputs": [],
   "source": [
    "IMAGE_SIZE = 224\n",
    "EPOCHS = 20\n",
    "BATCH_SIZE = 32\n",
    "TEST_SIZE = 30\n",
    "\n",
    "input_shape = (IMAGE_SIZE, IMAGE_SIZE, 3)"
   ]
  },
  {
   "cell_type": "code",
   "execution_count": 17,
   "metadata": {},
   "outputs": [
    {
     "name": "stdout",
     "output_type": "stream",
     "text": [
      "WARNING:tensorflow:`input_shape` is undefined or non-square, or `rows` is not in [128, 160, 192, 224]. Weights for input shape (224, 224) will be loaded as the default.\n"
     ]
    }
   ],
   "source": [
    "base_model = tf.keras.applications.mobilenet.MobileNet(weights = 'imagenet', include_top=False)"
   ]
  },
  {
   "cell_type": "code",
   "execution_count": 20,
   "metadata": {},
   "outputs": [],
   "source": [
    "from keras.applications.mobilenet import preprocess_input\n",
    "\n",
    "training_data_generator = ImageDataGenerator(preprocessing_function = preprocess_input, validation_split = 0.1)\n",
    "validation_data_generator = ImageDataGenerator(preprocessing_function = preprocess_input)\n",
    "\n",
    "test_data_generator = ImageDataGenerator(preprocessing_function = preprocess_input)"
   ]
  },
  {
   "cell_type": "code",
   "execution_count": 27,
   "metadata": {},
   "outputs": [
    {
     "name": "stdout",
     "output_type": "stream",
     "text": [
      "Found 534 images belonging to 2 classes.\n",
      "Found 58 images belonging to 2 classes.\n",
      "Found 253 images belonging to 2 classes.\n"
     ]
    }
   ],
   "source": [
    "# Data Preparation\n",
    "\n",
    "training_generator = training_data_generator.flow_from_directory(\n",
    "    training_data_dir,\n",
    "    target_size = (IMAGE_SIZE, IMAGE_SIZE),\n",
    "    batch_size = BATCH_SIZE,\n",
    "    subset = \"training\",\n",
    "    class_mode = 'binary'\n",
    ")\n",
    "\n",
    "validation_generator = training_data_generator.flow_from_directory(\n",
    "    training_data_dir,\n",
    "    target_size = (IMAGE_SIZE, IMAGE_SIZE),\n",
    "    batch_size = BATCH_SIZE,\n",
    "    subset = 'validation',\n",
    "    class_mode = 'binary'\n",
    ")\n",
    "\n",
    "test_generator = test_data_generator.flow_from_directory(\n",
    "    testing_data_dir,\n",
    "    target_size = (IMAGE_SIZE, IMAGE_SIZE),\n",
    "    batch_size = 1,\n",
    "    class_mode = 'binary',\n",
    "    shuffle = False\n",
    ")"
   ]
  },
  {
   "cell_type": "code",
   "execution_count": 30,
   "metadata": {},
   "outputs": [],
   "source": [
    "# Creating our model on top of MobileNet\n",
    "\n",
    "def create_model():\n",
    "    model = tf.keras.models.Sequential([base_model])\n",
    "    model.add(tf.keras.layers.GlobalAveragePooling2D())\n",
    "    model.add(tf.keras.layers.Dense(1024, activation = 'relu'))\n",
    "    model.add(tf.keras.layers.Dense(1024, activation = 'relu'))\n",
    "    model.add(tf.keras.layers.Dense(512, activation = 'relu'))\n",
    "    model.add(tf.keras.layers.Dense(1, activation = 'sigmoid'))\n",
    "    return model"
   ]
  },
  {
   "cell_type": "code",
   "execution_count": 45,
   "metadata": {},
   "outputs": [],
   "source": [
    "model = create_model()"
   ]
  },
  {
   "cell_type": "code",
   "execution_count": 46,
   "metadata": {},
   "outputs": [
    {
     "name": "stdout",
     "output_type": "stream",
     "text": [
      "Model: \"sequential_2\"\n",
      "_________________________________________________________________\n",
      "Layer (type)                 Output Shape              Param #   \n",
      "=================================================================\n",
      "mobilenet_1.00_224 (Model)   (None, None, None, 1024)  3228864   \n",
      "_________________________________________________________________\n",
      "global_average_pooling2d_2 ( (None, 1024)              0         \n",
      "_________________________________________________________________\n",
      "dense_8 (Dense)              (None, 1024)              1049600   \n",
      "_________________________________________________________________\n",
      "dense_9 (Dense)              (None, 1024)              1049600   \n",
      "_________________________________________________________________\n",
      "dense_10 (Dense)             (None, 512)               524800    \n",
      "_________________________________________________________________\n",
      "dense_11 (Dense)             (None, 1)                 513       \n",
      "=================================================================\n",
      "Total params: 5,853,377\n",
      "Trainable params: 2,624,513\n",
      "Non-trainable params: 3,228,864\n",
      "_________________________________________________________________\n"
     ]
    }
   ],
   "source": [
    "model.summary()"
   ]
  },
  {
   "cell_type": "code",
   "execution_count": 47,
   "metadata": {},
   "outputs": [],
   "source": [
    "base_model.trainable = False"
   ]
  },
  {
   "cell_type": "code",
   "execution_count": 48,
   "metadata": {},
   "outputs": [],
   "source": [
    "from tensorflow.keras.optimizers import RMSprop\n",
    "\n",
    "model.compile(loss = 'binary_crossentropy', optimizer = RMSprop(lr = 1e-4), metrics = ['accuracy'])"
   ]
  },
  {
   "cell_type": "code",
   "execution_count": 49,
   "metadata": {},
   "outputs": [
    {
     "name": "stdout",
     "output_type": "stream",
     "text": [
      "Epoch 1/20\n",
      "16/16 [==============================] - 29s 2s/step - loss: 0.5550 - accuracy: 0.7410 - val_loss: 0.5349 - val_accuracy: 0.7812\n",
      "Epoch 2/20\n",
      "16/16 [==============================] - 34s 2s/step - loss: 0.4497 - accuracy: 0.8068 - val_loss: 0.5559 - val_accuracy: 0.7812\n",
      "Epoch 3/20\n",
      "16/16 [==============================] - 33s 2s/step - loss: 0.3626 - accuracy: 0.8506 - val_loss: 0.4865 - val_accuracy: 0.7812\n",
      "Epoch 4/20\n",
      "16/16 [==============================] - 35s 2s/step - loss: 0.2840 - accuracy: 0.9004 - val_loss: 0.7303 - val_accuracy: 0.7500\n",
      "Epoch 5/20\n",
      "16/16 [==============================] - 34s 2s/step - loss: 0.2989 - accuracy: 0.8964 - val_loss: 0.5440 - val_accuracy: 0.7500\n",
      "Epoch 6/20\n",
      "16/16 [==============================] - 33s 2s/step - loss: 0.2493 - accuracy: 0.9084 - val_loss: 0.3639 - val_accuracy: 0.8125\n",
      "Epoch 7/20\n",
      "16/16 [==============================] - 35s 2s/step - loss: 0.1839 - accuracy: 0.9442 - val_loss: 0.4004 - val_accuracy: 0.7812\n",
      "Epoch 8/20\n",
      "16/16 [==============================] - 34s 2s/step - loss: 0.1872 - accuracy: 0.9283 - val_loss: 0.4002 - val_accuracy: 0.7812\n",
      "Epoch 9/20\n",
      "16/16 [==============================] - 33s 2s/step - loss: 0.1888 - accuracy: 0.9223 - val_loss: 0.4819 - val_accuracy: 0.7812\n",
      "Epoch 10/20\n",
      "16/16 [==============================] - 34s 2s/step - loss: 0.1255 - accuracy: 0.9582 - val_loss: 0.2598 - val_accuracy: 0.8750\n",
      "Epoch 11/20\n",
      "16/16 [==============================] - 33s 2s/step - loss: 0.1514 - accuracy: 0.9422 - val_loss: 0.6041 - val_accuracy: 0.7500\n",
      "Epoch 12/20\n",
      "16/16 [==============================] - 33s 2s/step - loss: 0.1270 - accuracy: 0.9442 - val_loss: 0.7896 - val_accuracy: 0.8125\n",
      "Epoch 13/20\n",
      "16/16 [==============================] - 33s 2s/step - loss: 0.1001 - accuracy: 0.9641 - val_loss: 0.9186 - val_accuracy: 0.7812\n",
      "Epoch 14/20\n",
      "16/16 [==============================] - 33s 2s/step - loss: 0.0968 - accuracy: 0.9727 - val_loss: 0.4612 - val_accuracy: 0.8125\n",
      "Epoch 15/20\n",
      "16/16 [==============================] - 34s 2s/step - loss: 0.0642 - accuracy: 0.9821 - val_loss: 0.5580 - val_accuracy: 0.7500\n",
      "Epoch 16/20\n",
      "16/16 [==============================] - 34s 2s/step - loss: 0.1038 - accuracy: 0.9522 - val_loss: 0.3348 - val_accuracy: 0.8750\n",
      "Epoch 17/20\n",
      "16/16 [==============================] - 34s 2s/step - loss: 0.0354 - accuracy: 0.9960 - val_loss: 0.3547 - val_accuracy: 0.9062\n",
      "Epoch 18/20\n",
      "16/16 [==============================] - 33s 2s/step - loss: 0.0688 - accuracy: 0.9741 - val_loss: 0.4750 - val_accuracy: 0.7812\n",
      "Epoch 19/20\n",
      "16/16 [==============================] - 33s 2s/step - loss: 0.0315 - accuracy: 0.9980 - val_loss: 0.3191 - val_accuracy: 0.8438\n",
      "Epoch 20/20\n",
      "16/16 [==============================] - 33s 2s/step - loss: 0.0360 - accuracy: 0.9920 - val_loss: 0.6197 - val_accuracy: 0.7188\n"
     ]
    }
   ],
   "source": [
    "history = model.fit(training_generator, \n",
    "                   steps_per_epoch = len(training_generator.filenames) // BATCH_SIZE,\n",
    "                   epochs = EPOCHS,\n",
    "                   validation_data = validation_generator,\n",
    "                   validation_steps = len(validation_generator.filenames) // BATCH_SIZE,\n",
    "                   callbacks = [\n",
    "#                        tf.keras.callbacks.EarlyStopping(monitor='val_accuracy', patience = 3),\n",
    "                       tf.keras.callbacks.ModelCheckpoint('/models/model_{epoch}_{val_accuracy:.3f}.h5', save_best_only = True,\n",
    "                                                         save_weights_only = False, monitor = 'val_accuracy')\n",
    "                   ])"
   ]
  },
  {
   "cell_type": "code",
   "execution_count": 58,
   "metadata": {},
   "outputs": [
    {
     "data": {
      "image/png": "[encoded data removed]",
      "text/plain": [
       "<Figure size 432x288 with 1 Axes>"
      ]
     },
     "metadata": {
      "needs_background": "light"
     },
     "output_type": "display_data"
    },
    {
     "data": {
      "image/png": "[encoded data removed]",
      "text/plain": [
       "<Figure size 432x288 with 1 Axes>"
      ]
     },
     "metadata": {
      "needs_background": "light"
     },
     "output_type": "display_data"
    }
   ],
   "source": [
    "import matplotlib.pyplot as plt\n",
    "acc = history.history['accuracy']\n",
    "val_acc = history.history['val_accuracy']\n",
    "loss = history.history['loss']\n",
    "val_loss = history.history['val_loss']\n",
    "\n",
    "epochs = range(len(acc))\n",
    "\n",
    "plt.plot(epochs, acc, 'bo', label='Training accuracy')\n",
    "plt.plot(epochs, val_acc, 'b', label='Validation accuracy')\n",
    "plt.title('Training and validation accuracy')\n",
    "\n",
    "plt.figure()\n",
    "\n",
    "plt.plot(epochs, loss, 'bo', label='Training Loss')\n",
    "plt.plot(epochs, val_loss, 'b', label='Validation Loss')\n",
    "plt.title('Training and validation loss')\n",
    "plt.legend()\n",
    "\n",
    "plt.show()"
   ]
  },
  {
   "cell_type": "code",
   "execution_count": 63,
   "metadata": {},
   "outputs": [],
   "source": [
    "model.save('models/palmistry_model_v1.h5')"
   ]
  },
  {
   "cell_type": "code",
   "execution_count": null,
   "metadata": {},
   "outputs": [],
   "source": []
  },
  {
   "cell_type": "code",
   "execution_count": 50,
   "metadata": {},
   "outputs": [],
   "source": [
    "# Building 2nd Model Without using Transfer Learning"
   ]
  },
  {
   "cell_type": "code",
   "execution_count": 54,
   "metadata": {},
   "outputs": [],
   "source": [
    "def create_model_2():\n",
    "    model = tf.keras.models.Sequential([\n",
    "        tf.keras.layers.Conv2D(32, (3, 3), activation = 'relu', input_shape = (224, 224, 3)),\n",
    "        tf.keras.layers.MaxPooling2D(2, 2),\n",
    "        tf.keras.layers.Conv2D(64, (3, 3), activation = 'relu'),\n",
    "        tf.keras.layers.MaxPooling2D(2 ,2),\n",
    "        tf.keras.layers.Conv2D(128, (3, 3), activation = 'relu'),\n",
    "        tf.keras.layers.MaxPooling2D(2, 2),\n",
    "        tf.keras.layers.Conv2D(128, (3, 3), activation = 'relu'),\n",
    "        tf.keras.layers.MaxPooling2D(2, 2),\n",
    "        tf.keras.layers.Flatten(),\n",
    "        tf.keras.layers.Dense(512, activation = 'relu'),\n",
    "        tf.keras.layers.Dense(1, activation = 'sigmoid')\n",
    "    ])\n",
    "    return model\n",
    "    "
   ]
  },
  {
   "cell_type": "code",
   "execution_count": 55,
   "metadata": {},
   "outputs": [],
   "source": [
    "model_v2 = create_model_2()"
   ]
  },
  {
   "cell_type": "code",
   "execution_count": 56,
   "metadata": {},
   "outputs": [],
   "source": [
    "model_v2.compile(loss = 'binary_crossentropy',\n",
    "                optimizer = RMSprop(lr = 1e-4),\n",
    "                metrics = ['accuracy'])"
   ]
  },
  {
   "cell_type": "code",
   "execution_count": 59,
   "metadata": {},
   "outputs": [
    {
     "name": "stdout",
     "output_type": "stream",
     "text": [
      "Epoch 1/20\n",
      "16/16 [==============================] - 67s 4s/step - loss: 0.5363 - accuracy: 0.7629 - val_loss: 0.5068 - val_accuracy: 0.7812\n",
      "Epoch 2/20\n",
      "16/16 [==============================] - 69s 4s/step - loss: 0.4264 - accuracy: 0.8048 - val_loss: 0.4548 - val_accuracy: 0.8125\n",
      "Epoch 3/20\n",
      "16/16 [==============================] - 70s 4s/step - loss: 0.3423 - accuracy: 0.8546 - val_loss: 0.3100 - val_accuracy: 0.9688\n",
      "Epoch 4/20\n",
      "16/16 [==============================] - 62s 4s/step - loss: 0.3002 - accuracy: 0.8645 - val_loss: 0.6189 - val_accuracy: 0.6875\n",
      "Epoch 5/20\n",
      "16/16 [==============================] - 60s 4s/step - loss: 0.2214 - accuracy: 0.8884 - val_loss: 0.7369 - val_accuracy: 0.6562\n",
      "Epoch 6/20\n",
      "16/16 [==============================] - 61s 4s/step - loss: 0.2356 - accuracy: 0.9064 - val_loss: 0.3695 - val_accuracy: 0.7188\n",
      "Epoch 7/20\n",
      "16/16 [==============================] - 67s 4s/step - loss: 0.1497 - accuracy: 0.9522 - val_loss: 0.1990 - val_accuracy: 0.9375\n",
      "Epoch 8/20\n",
      "16/16 [==============================] - 68s 4s/step - loss: 0.1898 - accuracy: 0.9203 - val_loss: 0.4604 - val_accuracy: 0.7500\n",
      "Epoch 9/20\n",
      "16/16 [==============================] - 66s 4s/step - loss: 0.1257 - accuracy: 0.9582 - val_loss: 0.3133 - val_accuracy: 0.9062\n",
      "Epoch 10/20\n",
      "16/16 [==============================] - 66s 4s/step - loss: 0.1702 - accuracy: 0.9343 - val_loss: 0.3437 - val_accuracy: 0.8750\n",
      "Epoch 11/20\n",
      "16/16 [==============================] - 62s 4s/step - loss: 0.1122 - accuracy: 0.9681 - val_loss: 0.6801 - val_accuracy: 0.7500\n",
      "Epoch 12/20\n",
      "16/16 [==============================] - 65s 4s/step - loss: 0.1305 - accuracy: 0.9570 - val_loss: 0.4020 - val_accuracy: 0.8438\n",
      "Epoch 13/20\n",
      "16/16 [==============================] - 65s 4s/step - loss: 0.1344 - accuracy: 0.9542 - val_loss: 0.3797 - val_accuracy: 0.8438\n",
      "Epoch 14/20\n",
      "16/16 [==============================] - 63s 4s/step - loss: 0.0707 - accuracy: 0.9781 - val_loss: 0.5932 - val_accuracy: 0.8438\n",
      "Epoch 15/20\n",
      "16/16 [==============================] - 61s 4s/step - loss: 0.0983 - accuracy: 0.9661 - val_loss: 0.2769 - val_accuracy: 0.9375\n",
      "Epoch 16/20\n",
      "16/16 [==============================] - 62s 4s/step - loss: 0.1101 - accuracy: 0.9562 - val_loss: 0.2793 - val_accuracy: 0.9062\n",
      "Epoch 17/20\n",
      "16/16 [==============================] - 62s 4s/step - loss: 0.1114 - accuracy: 0.9582 - val_loss: 0.7094 - val_accuracy: 0.7188\n",
      "Epoch 18/20\n",
      "16/16 [==============================] - 64s 4s/step - loss: 0.0698 - accuracy: 0.9781 - val_loss: 0.2567 - val_accuracy: 0.9062\n",
      "Epoch 19/20\n",
      "16/16 [==============================] - 66s 4s/step - loss: 0.0893 - accuracy: 0.9721 - val_loss: 0.5351 - val_accuracy: 0.7812\n",
      "Epoch 20/20\n",
      "16/16 [==============================] - 64s 4s/step - loss: 0.0461 - accuracy: 0.9920 - val_loss: 0.8723 - val_accuracy: 0.6562\n"
     ]
    }
   ],
   "source": [
    "history_v2 = model_v2.fit(training_generator, \n",
    "                   steps_per_epoch = len(training_generator.filenames) // BATCH_SIZE,\n",
    "                   epochs = EPOCHS,\n",
    "                   validation_data = validation_generator,\n",
    "                   validation_steps = len(validation_generator.filenames) // BATCH_SIZE\n",
    "                         )"
   ]
  },
  {
   "cell_type": "code",
   "execution_count": 60,
   "metadata": {},
   "outputs": [
    {
     "data": {
      "image/png": "[encoded data removed]",
      "text/plain": [
       "<Figure size 432x288 with 1 Axes>"
      ]
     },
     "metadata": {
      "needs_background": "light"
     },
     "output_type": "display_data"
    },
    {
     "data": {
      "image/png": "[encoded data removed]",
      "text/plain": [
       "<Figure size 432x288 with 1 Axes>"
      ]
     },
     "metadata": {
      "needs_background": "light"
     },
     "output_type": "display_data"
    }
   ],
   "source": [
    "acc = history.history['accuracy']\n",
    "val_acc = history.history['val_accuracy']\n",
    "loss = history.history['loss']\n",
    "val_loss = history.history['val_loss']\n",
    "\n",
    "epochs = range(len(acc))\n",
    "\n",
    "plt.plot(epochs, acc, 'bo', label='Training accuracy')\n",
    "plt.plot(epochs, val_acc, 'b', label='Validation accuracy')\n",
    "plt.title('Training and validation accuracy')\n",
    "\n",
    "plt.figure()\n",
    "\n",
    "plt.plot(epochs, loss, 'bo', label='Training Loss')\n",
    "plt.plot(epochs, val_loss, 'b', label='Validation Loss')\n",
    "plt.title('Training and validation loss')\n",
    "plt.legend()\n",
    "\n",
    "plt.show()"
   ]
  },
  {
   "cell_type": "code",
   "execution_count": 62,
   "metadata": {},
   "outputs": [],
   "source": [
    "model_v2.save('models/palmistry_model_v2.h5')"
   ]
  }
 ],
 "metadata": {
  "kernelspec": {
   "display_name": "Python 3",
   "language": "python",
   "name": "python3"
  },
  "language_info": {
   "codemirror_mode": {
    "name": "ipython",
    "version": 3
   },
   "file_extension": ".py",
   "mimetype": "text/x-python",
   "name": "python",
   "nbconvert_exporter": "python",
   "pygments_lexer": "ipython3",
   "version": "3.7.7"
  }
 },
 "nbformat": 4,
 "nbformat_minor": 4
}
